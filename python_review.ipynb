{
 "cells": [
  {
   "cell_type": "markdown",
   "metadata": {},
   "source": [
    "# Review of Python"
   ]
  },
  {
   "cell_type": "markdown",
   "metadata": {},
   "source": [
    "## The basics\n",
    "For any programming language you start with the trifecta of variables, conditionals and loops comes up."
   ]
  },
  {
   "cell_type": "markdown",
   "metadata": {},
   "source": [
    "![trifecta_of_variables](https://miro.medium.com/v2/resize:fit:720/format:webp/1*bvCp6hHFSTeYpPA8qz3hGQ.png)\n",
    "\n",
    "Let's get on with it then.\n"
   ]
  },
  {
   "cell_type": "markdown",
   "metadata": {},
   "source": [
    "### Variables\n",
    "\n",
    "Variables are used to store information inside the program and do something useful (or fun). Just like any other language, `=` is used to assign value to a variable. The most useful types of variables are: numbers, floats (numbers with decimals), strings and booleans (either True or False)."
   ]
  },
  {
   "cell_type": "code",
   "execution_count": 2,
   "metadata": {},
   "outputs": [
    {
     "name": "stdout",
     "output_type": "stream",
     "text": [
      "1\n",
      "1.1\n",
      "Hello world\n",
      "True\n"
     ]
    }
   ],
   "source": [
    "number = 1\n",
    "print(number)\n",
    "float_number = 1.1\n",
    "print(float_number)\n",
    "ex_string = \"Hello world\"\n",
    "print(ex_string)\n",
    "ex_boolean = True\n",
    "print(ex_boolean)"
   ]
  },
  {
   "cell_type": "markdown",
   "metadata": {},
   "source": [
    "Conditionals:"
   ]
  },
  {
   "cell_type": "code",
   "execution_count": 3,
   "metadata": {},
   "outputs": [
    {
     "name": "stdout",
     "output_type": "stream",
     "text": [
      "I am grumpy!\n"
     ]
    }
   ],
   "source": [
    "mood = \"\"\n",
    "\n",
    "if mood == \"good\":\n",
    "    print(\"I am happy!\")\n",
    "else:\n",
    "    print(\"I am grumpy!\")"
   ]
  },
  {
   "cell_type": "code",
   "execution_count": 4,
   "metadata": {},
   "outputs": [
    {
     "name": "stdout",
     "output_type": "stream",
     "text": [
      "I am smack-dab in the middle!\n"
     ]
    }
   ],
   "source": [
    "if mood == \"good\":\n",
    "    print(\"I am happy!\")\n",
    "elif mood == \"bad\":\n",
    "    print(\"I am grumpy!\")\n",
    "else:\n",
    "    print(\"I am smack-dab in the middle!\")"
   ]
  },
  {
   "cell_type": "markdown",
   "metadata": {},
   "source": [
    "Loops"
   ]
  },
  {
   "cell_type": "code",
   "execution_count": 5,
   "metadata": {},
   "outputs": [
    {
     "name": "stdout",
     "output_type": "stream",
     "text": [
      "45\n"
     ]
    }
   ],
   "source": [
    "answer = 0\n",
    "for i in range(1,10):\n",
    "    answer += i\n",
    "print(answer)"
   ]
  },
  {
   "cell_type": "code",
   "execution_count": 6,
   "metadata": {},
   "outputs": [
    {
     "name": "stdout",
     "output_type": "stream",
     "text": [
      "10\n",
      "45\n"
     ]
    }
   ],
   "source": [
    "answer = 0\n",
    "number = 0\n",
    "while number < 10:\n",
    "    answer += number\n",
    "    number += 1\n",
    "print(number)\n",
    "print(answer)"
   ]
  },
  {
   "cell_type": "markdown",
   "metadata": {},
   "source": [
    "Data Structures"
   ]
  },
  {
   "cell_type": "code",
   "execution_count": 7,
   "metadata": {},
   "outputs": [
    {
     "name": "stdout",
     "output_type": "stream",
     "text": [
      "apples\n",
      "oranges\n",
      "avocados\n",
      "grapes\n"
     ]
    }
   ],
   "source": [
    "#List\n",
    "numbers = [1,2,3,4]\n",
    "groceries = ['apples', 'oranges', 'avocados', 'grapes']\n",
    "prices = [240.2, 238.4, 244.6, 240.1]\n",
    "\n",
    "i = 0\n",
    "while (i<len(groceries)):\n",
    "    print(groceries[i])\n",
    "    i += 1"
   ]
  },
  {
   "cell_type": "code",
   "execution_count": 9,
   "metadata": {},
   "outputs": [
    {
     "name": "stdout",
     "output_type": "stream",
     "text": [
      "['oranges', 'avocados', 'grapes', 'blueberries', 'blueberries']\n",
      "['avocados', 'grapes', 'blueberries', 'blueberries']\n"
     ]
    }
   ],
   "source": [
    "groceries.append('blueberries')\n",
    "print(groceries)\n",
    "\n",
    "len(groceries)\n",
    "\n",
    "groceries.pop(0)\n",
    "\n",
    "print(groceries)"
   ]
  },
  {
   "cell_type": "markdown",
   "metadata": {},
   "source": [
    "Dictionaries"
   ]
  },
  {
   "cell_type": "code",
   "execution_count": 16,
   "metadata": {},
   "outputs": [
    {
     "data": {
      "text/plain": [
       "'Thomas Wayne'"
      ]
     },
     "execution_count": 16,
     "metadata": {},
     "output_type": "execute_result"
    }
   ],
   "source": [
    "bruce_wayne = {\n",
    "    'father': 'Thomas Wayne',\n",
    "    'mother': 'Martha Wayne',\n",
    "    'secret_identity': 'Batman',\n",
    "    'caretaker': 'Alfred Pennyworth',\n",
    "    'height': '6 ft 2 ins',\n",
    "    'weight': '95 hgs'\n",
    "}\n",
    "\n",
    "bruce_wayne['father']"
   ]
  },
  {
   "cell_type": "code",
   "execution_count": 17,
   "metadata": {},
   "outputs": [
    {
     "name": "stdout",
     "output_type": "stream",
     "text": [
      "{'father': 'Thomas Wayne', 'mother': 'Martha Wayne', 'secret_identity': 'Batman', 'caretaker': 'Alfred Pennyworth', 'height': '6 ft 2 ins', 'weight': '95 hgs', 'love_interest': 'Catwoman'}\n"
     ]
    }
   ],
   "source": [
    "#add a key-value pair\n",
    "bruce_wayne['love_interest'] = 'Catwoman'\n",
    "\n",
    "print(bruce_wayne)"
   ]
  },
  {
   "cell_type": "code",
   "execution_count": 18,
   "metadata": {},
   "outputs": [
    {
     "name": "stdout",
     "output_type": "stream",
     "text": [
      "{'father': 'Thomas Wayne', 'mother': 'Martha Wayne', 'secret_identity': 'Batman', 'caretaker': 'Alfred Pennyworth', 'height': '6 ft 2 ins', 'love_interest': 'Catwoman'}\n"
     ]
    }
   ],
   "source": [
    "#remove elements\n",
    "bruce_wayne.pop('weight')\n",
    "\n",
    "print(bruce_wayne)"
   ]
  },
  {
   "cell_type": "markdown",
   "metadata": {},
   "source": [
    "Sets"
   ]
  },
  {
   "cell_type": "code",
   "execution_count": 22,
   "metadata": {},
   "outputs": [
    {
     "name": "stdout",
     "output_type": "stream",
     "text": [
      "{1, 2, 3, 4, 5, 6}\n",
      "{1}\n"
     ]
    }
   ],
   "source": [
    "arr = {1,1,2,3,4,5,6}\n",
    "\n",
    "print(arr)\n",
    "\n",
    "#create a new empty set\n",
    "arr = set()\n",
    "\n",
    "arr.add(1)\n",
    "arr.add(1)\n",
    "\n",
    "print(arr)"
   ]
  },
  {
   "cell_type": "code",
   "execution_count": 23,
   "metadata": {},
   "outputs": [
    {
     "name": "stdout",
     "output_type": "stream",
     "text": [
      "{2, 3}\n"
     ]
    }
   ],
   "source": [
    "#remove elements\n",
    "set1 = {1,2,3}\n",
    "\n",
    "set1.remove(1)\n",
    "\n",
    "print(set1)"
   ]
  },
  {
   "cell_type": "code",
   "execution_count": 27,
   "metadata": {},
   "outputs": [
    {
     "data": {
      "text/plain": [
       "{1, 2, 4, 5}"
      ]
     },
     "execution_count": 27,
     "metadata": {},
     "output_type": "execute_result"
    }
   ],
   "source": [
    "set1 = {1,2,3}\n",
    "set2 = {3,4,5}\n",
    "\n",
    "# | union of two sets\n",
    "set1 | set2\n",
    "\n",
    "# & intersection of two sets\n",
    "set1 & set2\n",
    "\n",
    "# - difference of two sets \n",
    "set1 - set2\n",
    "\n",
    "# symmetric differende of two sets\n",
    "set1 ^ set2"
   ]
  }
 ],
 "metadata": {
  "kernelspec": {
   "display_name": "Python 3",
   "language": "python",
   "name": "python3"
  },
  "language_info": {
   "codemirror_mode": {
    "name": "ipython",
    "version": 3
   },
   "file_extension": ".py",
   "mimetype": "text/x-python",
   "name": "python",
   "nbconvert_exporter": "python",
   "pygments_lexer": "ipython3",
   "version": "3.10.2"
  },
  "orig_nbformat": 4
 },
 "nbformat": 4,
 "nbformat_minor": 2
}
