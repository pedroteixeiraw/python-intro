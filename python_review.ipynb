{
 "cells": [
  {
   "cell_type": "markdown",
   "metadata": {},
   "source": [
    "## Review Python"
   ]
  },
  {
   "cell_type": "markdown",
   "metadata": {},
   "source": [
    "Variables:"
   ]
  },
  {
   "cell_type": "code",
   "execution_count": 4,
   "metadata": {},
   "outputs": [
    {
     "name": "stdout",
     "output_type": "stream",
     "text": [
      "1\n",
      "1.1\n",
      "Hello world\n",
      "True\n"
     ]
    }
   ],
   "source": [
    "number = 1\n",
    "print(number)\n",
    "float_number = 1.1\n",
    "print(float_number)\n",
    "ex_string = \"Hello world\"\n",
    "print(ex_string)\n",
    "ex_boolean = True\n",
    "print(ex_boolean)"
   ]
  },
  {
   "cell_type": "markdown",
   "metadata": {},
   "source": [
    "Conditionals:"
   ]
  },
  {
   "cell_type": "code",
   "execution_count": 6,
   "metadata": {},
   "outputs": [
    {
     "name": "stdout",
     "output_type": "stream",
     "text": [
      "I am grumpy!\n"
     ]
    }
   ],
   "source": [
    "mood = \"\"\n",
    "\n",
    "if mood == \"good\":\n",
    "    print(\"I am happy!\")\n",
    "else:\n",
    "    print(\"I am grumpy!\")"
   ]
  },
  {
   "cell_type": "code",
   "execution_count": 7,
   "metadata": {},
   "outputs": [
    {
     "name": "stdout",
     "output_type": "stream",
     "text": [
      "I am smack-dab in the middle!\n"
     ]
    }
   ],
   "source": [
    "if mood == \"good\":\n",
    "    print(\"I am happy!\")\n",
    "elif mood == \"bad\":\n",
    "    print(\"I am grumpy!\")\n",
    "else:\n",
    "    print(\"I am smack-dab in the middle!\")"
   ]
  },
  {
   "cell_type": "markdown",
   "metadata": {},
   "source": [
    "Loops"
   ]
  },
  {
   "cell_type": "code",
   "execution_count": 17,
   "metadata": {},
   "outputs": [
    {
     "name": "stdout",
     "output_type": "stream",
     "text": [
      "45\n"
     ]
    }
   ],
   "source": [
    "answer = 0\n",
    "for i in range(1,10):\n",
    "    answer += i\n",
    "print(answer)"
   ]
  },
  {
   "cell_type": "code",
   "execution_count": 20,
   "metadata": {},
   "outputs": [
    {
     "name": "stdout",
     "output_type": "stream",
     "text": [
      "10\n",
      "45\n"
     ]
    }
   ],
   "source": [
    "answer = 0\n",
    "number = 0\n",
    "while number < 10:\n",
    "    answer += number\n",
    "    number += 1\n",
    "print(number)\n",
    "print(answer)"
   ]
  },
  {
   "cell_type": "markdown",
   "metadata": {},
   "source": [
    "Data Structures"
   ]
  },
  {
   "cell_type": "code",
   "execution_count": 25,
   "metadata": {},
   "outputs": [
    {
     "name": "stdout",
     "output_type": "stream",
     "text": [
      "apples\n",
      "oranges\n",
      "avocados\n",
      "grapes\n"
     ]
    }
   ],
   "source": [
    "#List\n",
    "numbers = [1,2,3,4]\n",
    "groceries = ['apples', 'oranges', 'avocados', 'grapes']\n",
    "prices = [240.2, 238.4, 244.6, 240.1]\n",
    "\n",
    "i = 0\n",
    "while (i<len(groceries)):\n",
    "    print(groceries[i])\n",
    "    i += 1"
   ]
  }
 ],
 "metadata": {
  "kernelspec": {
   "display_name": "Python 3",
   "language": "python",
   "name": "python3"
  },
  "language_info": {
   "codemirror_mode": {
    "name": "ipython",
    "version": 3
   },
   "file_extension": ".py",
   "mimetype": "text/x-python",
   "name": "python",
   "nbconvert_exporter": "python",
   "pygments_lexer": "ipython3",
   "version": "3.10.2"
  },
  "orig_nbformat": 4
 },
 "nbformat": 4,
 "nbformat_minor": 2
}
