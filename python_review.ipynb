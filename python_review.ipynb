{
 "cells": [
  {
   "cell_type": "markdown",
   "metadata": {},
   "source": [
    "# Review of Python"
   ]
  },
  {
   "cell_type": "markdown",
   "metadata": {},
   "source": [
    "## The basics\n",
    "For any programming language you start with the trifecta of variables, conditionals and loops comes up."
   ]
  },
  {
   "cell_type": "markdown",
   "metadata": {},
   "source": [
    "![trifecta_of_variables](https://miro.medium.com/v2/resize:fit:720/format:webp/1*bvCp6hHFSTeYpPA8qz3hGQ.png)\n",
    "\n",
    "Let's get on with it then.\n"
   ]
  },
  {
   "cell_type": "markdown",
   "metadata": {},
   "source": [
    "### Variables\n",
    "\n",
    "Variables are used to store information inside the program and do something useful (or fun). Just like any other language, `=` is used to assign value to a variable. The most useful types of variables are: numbers, floats (numbers with decimals), strings and booleans (either True or False)."
   ]
  },
  {
   "cell_type": "code",
   "execution_count": null,
   "metadata": {},
   "outputs": [
    {
     "name": "stdout",
     "output_type": "stream",
     "text": [
      "1\n",
      "1.1\n",
      "Hello world\n",
      "True\n"
     ]
    }
   ],
   "source": [
    "example_number = 1\n",
    "example_float = 1.0\n",
    "example_string = \"Example String\"\n",
    "example_boolean = True"
   ]
  },
  {
   "cell_type": "markdown",
   "metadata": {},
   "source": [
    "### Conditionals\n",
    "\n",
    "Conditionals help the code to decide what to do depending on a condition. Just like in our lives, if our mood is good, we are happy and otherwise, we are grumpy. For Python, it would look this:"
   ]
  },
  {
   "cell_type": "code",
   "execution_count": 2,
   "metadata": {},
   "outputs": [
    {
     "name": "stdout",
     "output_type": "stream",
     "text": [
      "I am grumpy!\n"
     ]
    }
   ],
   "source": [
    "mood = \"\"\n",
    "\n",
    "if mood == \"good\":\n",
    "    print(\"I am happy!\")\n",
    "else:\n",
    "    print(\"I am grumpy!\")"
   ]
  },
  {
   "cell_type": "markdown",
   "metadata": {},
   "source": [
    "But, what if we want to accommodate more conditions into our code. Fret not, there is a way. Extending our previous example we can say that if mood is good, we are happy; if mood is bad, we are grumpy and otherwise, we are smack-dab in the middle. Let’s see how this is done in Python:"
   ]
  },
  {
   "cell_type": "code",
   "execution_count": 3,
   "metadata": {},
   "outputs": [
    {
     "name": "stdout",
     "output_type": "stream",
     "text": [
      "I am smack-dab in the middle!\n"
     ]
    }
   ],
   "source": [
    "if mood == \"good\":\n",
    "    print(\"I am happy!\")\n",
    "elif mood == \"bad\":\n",
    "    print(\"I am grumpy!\")\n",
    "else:\n",
    "    print(\"I am smack-dab in the middle!\")"
   ]
  },
  {
   "cell_type": "markdown",
   "metadata": {},
   "source": [
    "For conditionals, you just need to remember most of the times, `if-else` and sometimes, `if-elif-else`.\n",
    "\n",
    "PS: `==` is the comparison operator used to perform comparisons between the guys on the left and right hand side."
   ]
  },
  {
   "cell_type": "markdown",
   "metadata": {},
   "source": [
    "### Loops\n",
    "Loops are used for repeating the same task again and again. What if I ask you to add number from 1 to a billion? In Python, without loops it would look something like this:"
   ]
  },
  {
   "cell_type": "code",
   "execution_count": 4,
   "metadata": {},
   "outputs": [],
   "source": [
    "answer = 0\n",
    "answer = answer + 1\n",
    "answer = answer + 2\n",
    "answer = answer + 3\n",
    "# .\n",
    "# . and all the numbers in between\n",
    "# .\n",
    "answer = answer + 1000000000"
   ]
  },
  {
   "cell_type": "markdown",
   "metadata": {},
   "source": [
    "This would be a truly excruciating and frustrating task. And that is the exact reason why loops are necessary. This is how one would do the above in Python (the simple and short way):"
   ]
  },
  {
   "cell_type": "code",
   "execution_count": 5,
   "metadata": {},
   "outputs": [
    {
     "name": "stdout",
     "output_type": "stream",
     "text": [
      "45\n"
     ]
    }
   ],
   "source": [
    "answer = 0\n",
    "for i in range(1,10):\n",
    "    answer += i\n",
    "print(answer)"
   ]
  },
  {
   "cell_type": "markdown",
   "metadata": {},
   "source": [
    "> `range` is a Python function for creating values in a range (in our case, from 1 to a billion). `+=` means sum first then assign which means `answer += i` can also be written as `answer = answer + i` .\n",
    "\n",
    "The for loop would be the one you would be using a lot. Apart from that, we have while loop which can also be used to solve the problem of adding number from 1 to billion above like this:"
   ]
  },
  {
   "cell_type": "code",
   "execution_count": 6,
   "metadata": {},
   "outputs": [
    {
     "name": "stdout",
     "output_type": "stream",
     "text": [
      "10\n",
      "45\n"
     ]
    }
   ],
   "source": [
    "answer = 0\n",
    "number = 0\n",
    "while number < 10:\n",
    "    answer += number\n",
    "    number += 1\n",
    "print(number)\n",
    "print(answer)"
   ]
  },
  {
   "cell_type": "markdown",
   "metadata": {},
   "source": [
    "The `for` and `while` loop can be used interchangeably. Generally, `for` loop is used for running through a list of numbers or some data while `while` loop is used for waiting on a condition.\n",
    "\n",
    "Now, the basic stuff is out of the way. It would be super useful if we could have something that would allow us to store more than one value at a time. Suppose you are thinking of automating your invites to a party, you would need to store all those names and e-mail addresses somewhere."
   ]
  },
  {
   "cell_type": "markdown",
   "metadata": {},
   "source": [
    "### Data Structures\n",
    "\n",
    "Lo and behold, I introduce to you the world of Data Structures (techniques to store and organize data). We have another trifecta here: List, Dictionary and Set.\n",
    "\n",
    "![trifecta_of_variables](https://miro.medium.com/v2/resize:fit:720/format:webp/1*yc7GsE20PptbInUCMp9ASQ.png)\n"
   ]
  },
  {
   "cell_type": "markdown",
   "metadata": {},
   "source": [
    "#### List\n",
    "\n",
    "List just like any lists in normal life handles data that gathers up in a straight line. The names of students in a class, the stock prices of a company, the grocery list and many others lists popping up in your life can put to bed nicely in [] in Python. Here’s an example:"
   ]
  },
  {
   "cell_type": "code",
   "execution_count": null,
   "metadata": {},
   "outputs": [],
   "source": [
    "numbers = [1, 2, 3, 4]\n",
    "groceries = ['apples', 'oranges', 'avocados', 'grapes']\n",
    "prices = [240.2, 238.4, 244.6, 240.1]"
   ]
  },
  {
   "cell_type": "markdown",
   "metadata": {},
   "source": [
    "It’s great we are able to store all these values in nice little boxes but how do we take them out? Revisiting our school days, we all had roll numbers (or something along the same lines) and we answered to that number. The same goes here. Just one tiny little difference, here the roll number starts from 0.\n",
    "\n",
    "Let’s see an example:"
   ]
  },
  {
   "cell_type": "code",
   "execution_count": null,
   "metadata": {},
   "outputs": [],
   "source": [
    "groceries = ['apples', 'oranges', 'avocados', 'grapes']\n",
    "\n",
    "print(groceries[0])\n",
    "# 'apples'\n",
    "\n",
    "print(groceries[1])\n",
    "# 'oranges'\n",
    "\n",
    "print(groceries[2])\n",
    "# 'avocados'\n",
    "\n",
    "print(groceries[3])\n",
    "# 'grapes'"
   ]
  },
  {
   "cell_type": "markdown",
   "metadata": {},
   "source": [
    "As we can see the first element (‘apples’) in groceries list answers to the roll call 0 and so on.\n",
    "\n",
    "Each data structures has some features along with it in Python. Let’s take a look in the example below."
   ]
  },
  {
   "cell_type": "code",
   "execution_count": 6,
   "metadata": {},
   "outputs": [
    {
     "name": "stdout",
     "output_type": "stream",
     "text": [
      "['apples', 'oranges', 'avocados', 'grapes', 'blueberries']\n",
      "['oranges', 'avocados', 'grapes', 'blueberries']\n"
     ]
    }
   ],
   "source": [
    "groceries = ['apples', 'oranges', 'avocados', 'grapes']\n",
    "\n",
    "groceries.append('blueberries')\n",
    "print(groceries)\n",
    "# ['apples', 'oranges', 'avocados', 'grapes', 'blueberries']\n",
    "\n",
    "len(groceries)\n",
    "# 5\n",
    "\n",
    "groceries.pop(0)\n",
    "# 'apples'\n",
    "\n",
    "print(groceries)\n",
    "# ['oranges', avocados', 'grapes', 'blueberries'] "
   ]
  },
  {
   "cell_type": "markdown",
   "metadata": {},
   "source": [
    "Three things stand out here which are new: `append` , `len` and `pop` .\n",
    "\n",
    "`append` is a method used to add an element to the end of a list.\n",
    "\n",
    "`len` is method to get the length of the list.\n",
    "\n",
    "`pop` is used to throw out the nᵗʰ element of the list. (we gave n = 0, so the first element got thrown out)."
   ]
  },
  {
   "cell_type": "code",
   "execution_count": 9,
   "metadata": {},
   "outputs": [
    {
     "name": "stdout",
     "output_type": "stream",
     "text": [
      "['oranges', 'avocados', 'grapes', 'blueberries', 'blueberries']\n",
      "['avocados', 'grapes', 'blueberries', 'blueberries']\n"
     ]
    }
   ],
   "source": [
    "groceries.append('blueberries')\n",
    "print(groceries)\n",
    "\n",
    "len(groceries)\n",
    "\n",
    "groceries.pop(0)\n",
    "\n",
    "print(groceries)"
   ]
  },
  {
   "cell_type": "markdown",
   "metadata": {},
   "source": [
    "#### Dictionaries\n",
    "\n",
    "Dictionary is used for storing data having relation between each other. Like countries and their capitals, family relationships or information about a person. For example,"
   ]
  },
  {
   "cell_type": "code",
   "execution_count": 7,
   "metadata": {},
   "outputs": [],
   "source": [
    "bruce_wayne = {\n",
    "  'father': 'Thomas Wayne',\n",
    "  'mother': 'Martha Wayne',\n",
    "  'secret_identity': 'Batman',\n",
    "  'caretaker': 'Alfred Pennyworth',\n",
    "  'height': '6 ft 2ins',\n",
    "  'weight': '95 kgs'\n",
    "}"
   ]
  },
  {
   "cell_type": "markdown",
   "metadata": {},
   "source": [
    "In the above, we have `{}` brackets for conveying that it is a dictionary and pairs having `:` in between them having the information. But, how do we call this information?"
   ]
  },
  {
   "cell_type": "code",
   "execution_count": 9,
   "metadata": {},
   "outputs": [
    {
     "data": {
      "text/plain": [
       "'Thomas Wayne'"
      ]
     },
     "execution_count": 9,
     "metadata": {},
     "output_type": "execute_result"
    }
   ],
   "source": [
    "bruce_wayne = {\n",
    "  'father': 'Thomas Wayne',\n",
    "  'mother': 'Martha Wayne',\n",
    "  'secret_identity': 'Batman',\n",
    "  'caretaker': 'Alfred Pennyworth',\n",
    "  'height': '6 ft 2ins',\n",
    "  'weight': '95 kgs'\n",
    "}\n",
    "\n",
    "bruce_wayne['father']"
   ]
  },
  {
   "cell_type": "markdown",
   "metadata": {},
   "source": [
    "Followed by the dictionary name, in between the two square brackets, you put the key name and that’s it.\n",
    "\n",
    "Let’s see how to add a key-value pairs in a dictionary."
   ]
  },
  {
   "cell_type": "code",
   "execution_count": 8,
   "metadata": {},
   "outputs": [
    {
     "name": "stdout",
     "output_type": "stream",
     "text": [
      "{'father': 'Thomas Wayne', 'mother': 'Martha Wayne', 'secret_identity': 'Batman', 'caretaker': 'Alfred Pennyworth', 'height': '6 ft 2ins', 'weight': '95 kgs', 'love_interest': 'Catwoman'}\n"
     ]
    }
   ],
   "source": [
    "bruce_wayne['love_interest'] = 'Catwoman'\n",
    "\n",
    "print(bruce_wayne)"
   ]
  },
  {
   "cell_type": "markdown",
   "metadata": {},
   "source": [
    "Using the same way, we use for accessing the values and putting an assignment operator (`=`), we easily add new values to a dictionary.\n",
    "\n",
    "Let’s see how to remove a key-value pair from a dictionary."
   ]
  },
  {
   "cell_type": "code",
   "execution_count": 11,
   "metadata": {},
   "outputs": [
    {
     "name": "stdout",
     "output_type": "stream",
     "text": [
      "{'father': 'Thomas Wayne', 'mother': 'Martha Wayne', 'secret_identity': 'Batman', 'caretaker': 'Alfred Pennyworth', 'height': '6 ft 2ins', 'love_interest': 'Catwoman'}\n"
     ]
    }
   ],
   "source": [
    "bruce_wayne['love_interest'] = 'Catwoman'\n",
    "\n",
    "print(bruce_wayne)\n",
    "# {\n",
    "#  'father': 'Thomas Wayne',\n",
    "#  'mother': 'Martha Wayne',\n",
    "#  'secret_identity': 'Batman',\n",
    "#  'caretaker': 'Alfred Pennyworth',\n",
    "#  'height': '6 ft 2ins',\n",
    "#  'weight': '95 kgs',\n",
    "#  'love_interest': 'Catwoman'\n",
    "#}"
   ]
  },
  {
   "cell_type": "markdown",
   "metadata": {},
   "source": [
    "For removing a key-value pair, we pass on the key to the pop function (the method with same name is used to remove a value from a list, also)."
   ]
  },
  {
   "cell_type": "code",
   "execution_count": 10,
   "metadata": {},
   "outputs": [
    {
     "name": "stdout",
     "output_type": "stream",
     "text": [
      "{'father': 'Thomas Wayne', 'mother': 'Martha Wayne', 'secret_identity': 'Batman', 'caretaker': 'Alfred Pennyworth', 'height': '6 ft 2ins'}\n"
     ]
    }
   ],
   "source": [
    "bruce_wayne.pop('weight')\n",
    "# '95 kgs'\n",
    "\n",
    "print(bruce_wayne)\n",
    "# {\n",
    "#  'father': 'Thomas Wayne',\n",
    "#  'mother': 'Martha Wayne',\n",
    "#  'secret_identity': 'Batman',\n",
    "#  'caretaker': 'Alfred Pennyworth',\n",
    "#  'height': '6 ft 2ins',\n",
    "#  'love_interest': 'Catwoman'\n",
    "#}"
   ]
  },
  {
   "cell_type": "markdown",
   "metadata": {},
   "source": [
    "For removing a key-value pair, we pass on the key to the pop function (the method with same name is used to remove a value from a list, also)."
   ]
  },
  {
   "cell_type": "markdown",
   "metadata": {},
   "source": [
    "#### Sets"
   ]
  },
  {
   "cell_type": "markdown",
   "metadata": {},
   "source": [
    "Sets are useful for storing unique items. And they have all that you read in high school. Sometimes, you may want to check if a value has been repeated or only retain unique items (number of unique cities in a big list), set is what you want. Let’s see an example."
   ]
  },
  {
   "cell_type": "code",
   "execution_count": 1,
   "metadata": {},
   "outputs": [
    {
     "name": "stdout",
     "output_type": "stream",
     "text": [
      "{1, 2, 3, 4, 5, 6}\n",
      "{1}\n"
     ]
    }
   ],
   "source": [
    "arr = {1, 1, 2, 3, 3, 4, 5, 6}\n",
    "\n",
    "print(arr)\n",
    "# {1, 2, 3, 4, 5, 6}\n",
    "\n",
    "arr = set()\n",
    "\n",
    "arr.add(1)\n",
    "arr.add(1)\n",
    "\n",
    "print(arr)\n",
    "# {1}"
   ]
  },
  {
   "cell_type": "markdown",
   "metadata": {},
   "source": [
    "First of all, set also uses `{}` brackets but there is no key:value pairs, it doesn’t create any problem for Python to understand what’s going on. Next, since `a = {}` will be taken as an empty dictionary by Python, we use `a = set()` to create a new empty set.\n",
    "\n",
    "From lines 1 to 4 above, we see that even though in the first statement, we had put duplicate elements, only unique values are retained still.\n",
    "\n",
    "From line 6 onward, we see that in an empty set, even if we put the same value 2 times, only 1 shall be retained.\n",
    "\n",
    "Above, we also learnt how to add elements in a set. Now, let’s see how to remove them."
   ]
  },
  {
   "cell_type": "code",
   "execution_count": 2,
   "metadata": {},
   "outputs": [
    {
     "name": "stdout",
     "output_type": "stream",
     "text": [
      "{2, 3}\n"
     ]
    }
   ],
   "source": [
    "set1 = {1, 2, 3}\n",
    "\n",
    "set1.remove(1)\n",
    "\n",
    "print(set1)\n",
    "# {2, 3}"
   ]
  },
  {
   "cell_type": "markdown",
   "metadata": {},
   "source": [
    "In order to remove an element from a set, just give the value to the remove method.\n",
    "\n",
    "Now, as promised, let’s see an example with all the high school stuff."
   ]
  },
  {
   "cell_type": "code",
   "execution_count": 27,
   "metadata": {},
   "outputs": [
    {
     "data": {
      "text/plain": [
       "{1, 2, 4, 5}"
      ]
     },
     "execution_count": 27,
     "metadata": {},
     "output_type": "execute_result"
    }
   ],
   "source": [
    "set1 = {1,2,3}\n",
    "set2 = {3,4,5}\n",
    "\n",
    "# | union of two sets\n",
    "set1 | set2\n",
    "\n",
    "\n",
    "# & intersection of two sets\n",
    "set1 & set2\n",
    "\n",
    "# - difference of two sets \n",
    "set1 - set2\n",
    "\n",
    "# symmetric differende of two sets\n",
    "set1 ^ set2"
   ]
  },
  {
   "cell_type": "markdown",
   "metadata": {},
   "source": [
    "A quick revision:\n",
    "\n",
    " - Union of two sets gets all the unique elements in both the sets.\n",
    " - Intersection of two sets gets the common elements in between the sets.\n",
    " - Difference of two sets gets elements in first set which are not in second set.\n",
    " - Symmetric difference of two sets get unique elements in both sets except the ones which are common in both.\n",
    "\n",
    " And thus for sets in Python:\n",
    "\n",
    " - | = union\n",
    " - & = intersection\n",
    " - '-' = difference\n",
    " - ^ = symmetric difference"
   ]
  },
  {
   "cell_type": "markdown",
   "metadata": {},
   "source": [
    "#### Looping through Data Structures\n",
    "\n",
    "There is a necessity to loop through the data structures that we have created. The good thing about Python is that there is not much difference in how we do that for any of the data structure above. Let’s take a look."
   ]
  },
  {
   "cell_type": "code",
   "execution_count": 3,
   "metadata": {},
   "outputs": [
    {
     "name": "stdout",
     "output_type": "stream",
     "text": [
      "1\n",
      "2\n",
      "3\n",
      "4\n",
      "5\n",
      "6\n"
     ]
    }
   ],
   "source": [
    "example_list = [1, 2, 3, 4, 5, 6]\n",
    "\n",
    "for i in example_list:\n",
    "  print(i)\n",
    "# 1\n",
    "# 2\n",
    "# 3\n",
    "# 4\n",
    "# 5\n",
    "# 6"
   ]
  },
  {
   "cell_type": "markdown",
   "metadata": {},
   "source": [
    "A simple for loop can be used to iterate through any data structure. i is the representative while going through the data structure."
   ]
  },
  {
   "cell_type": "code",
   "execution_count": 4,
   "metadata": {},
   "outputs": [
    {
     "name": "stdout",
     "output_type": "stream",
     "text": [
      "apples\n",
      "bananas\n",
      "oranges\n"
     ]
    }
   ],
   "source": [
    "example_dict = {'apples': 1, 'bananas': 2, 'oranges': 3}\n",
    "\n",
    "for i in example_dict:\n",
    "  print(i)\n",
    "# 'apples'\n",
    "# 'bananas'\n",
    "# 'oranges'"
   ]
  },
  {
   "cell_type": "markdown",
   "metadata": {},
   "source": [
    "The same for loop can be used to through the dictionary keys and we already know how to get the value against a key in dictionary, so that can be also accessed.\n",
    "\n",
    "Finally, without any changes, the same for loop can also be used for going the values in a set."
   ]
  },
  {
   "cell_type": "code",
   "execution_count": 5,
   "metadata": {},
   "outputs": [
    {
     "name": "stdout",
     "output_type": "stream",
     "text": [
      "1\n",
      "2\n",
      "3\n",
      "4\n",
      "5\n",
      "6\n"
     ]
    }
   ],
   "source": [
    "example_set = {1, 2, 3, 4, 5, 6}\n",
    "\n",
    "for i in example_set:\n",
    "  print(i)\n",
    "# 1\n",
    "# 2\n",
    "# 3\n",
    "# 4\n",
    "# 5\n",
    "# 6"
   ]
  },
  {
   "cell_type": "markdown",
   "metadata": {},
   "source": [
    "Using what we have learnt above, you can do anything in Python. What we will learn ahead would allow us to reduce our effort in doing so. It will also help maintaining our code in the future when we have to do changes."
   ]
  },
  {
   "cell_type": "markdown",
   "metadata": {},
   "source": [
    "### Functions\n",
    "\n",
    "In Python, functions are quite useful helping us in repeating the same set of instructions again & again. Just above we have seen the same set of instructions can be used to see the values inside a list, dictionary and set. As you keep on working on ideas in Python, things can get complicated and writing the same code again and again wouldn’t be the best use of your time and motivation. This is where functions are useful. Let’s see an example."
   ]
  },
  {
   "cell_type": "code",
   "execution_count": 6,
   "metadata": {},
   "outputs": [
    {
     "name": "stdout",
     "output_type": "stream",
     "text": [
      "1\n",
      "2\n",
      "3\n",
      "1\n",
      "2\n",
      "3\n"
     ]
    }
   ],
   "source": [
    "example_list = [1, 2, 3]\n",
    "example_set = {1, 2, 3}\n",
    "\n",
    "def show(data):\n",
    "  for i in data:\n",
    "    print(i)\n",
    "\n",
    "show(example_list)\n",
    "# 1\n",
    "# 2\n",
    "# 3 \n",
    "\n",
    "show(example_set)\n",
    "# 1\n",
    "# 2\n",
    "# 3"
   ]
  },
  {
   "cell_type": "markdown",
   "metadata": {},
   "source": [
    "In the example above at line 4, we see the function show.\n",
    "\n",
    "Every function start with the keyword `def` followed by the function name which is in our case `show` and in the following parentheses the arguments are taken separated by commas. In our case, we only have one argument `data`.\n",
    "\n",
    "In the subsequent lines, we write the repeated set of instructions we don’t want to repeat writing anymore. In the function, we operate on the arguments given to the function.\n",
    "\n",
    "Before, we had to write `example_list` or `example_set` to iterate through it but now, we are using `data` to do the same. `data` acts as a placeholder for `example_list` or `example_set` in our function. This allows us to not write the same code again by referring both `example_list` and `example_set` as same.\n",
    "\n",
    "There are more complex functions which require much more lines of code to do their work and that is where you will actually realize the use of functions. In addition to that, in the future, if you want to change your code, you just need to make changes at a single place.\n",
    "\n",
    "But, as systems become large, these code grows in size. A single person can no more handle that. More structure is required at this point of time. Apart from the need of structure, a large code becomes bound to have a part of code that has similar functions and similar data in it. In order to accommodate this, the concept of classes come into picture."
   ]
  },
  {
   "cell_type": "markdown",
   "metadata": {},
   "source": [
    "### Class\n",
    "Let’s take an example. Suppose you have some numerical data and for that data, you need to calculate its mean (average of all numbers) and variance (how much the whole data is away from the mean). The calculations we have to do will become functions and yes, we can pass the numerical data list to them and we can get the answer. But, it would be nice if they can be packaged together since they are related.\n",
    "\n",
    "If these functions are needed, we can find them in the class. Otherwise, they can be lost in the sea of code. As humans, we crave structure in chaos. For now, let’s look how our numerical data class would look like.\n",
    "\n",
    "**PS:** Class is the blueprint of an object. It is through the object, we use the functionality in class."
   ]
  },
  {
   "cell_type": "code",
   "execution_count": 9,
   "metadata": {},
   "outputs": [
    {
     "ename": "NameError",
     "evalue": "name 'data' is not defined",
     "output_type": "error",
     "traceback": [
      "\u001b[1;31m---------------------------------------------------------------------------\u001b[0m",
      "\u001b[1;31mNameError\u001b[0m                                 Traceback (most recent call last)",
      "\u001b[1;32mc:\\Users\\pedro\\OneDrive\\Documents\\python_review\\python_review.ipynb Cell 57\u001b[0m in \u001b[0;36m<module>\u001b[1;34m\u001b[0m\n\u001b[0;32m     <a href='vscode-notebook-cell:/c%3A/Users/pedro/OneDrive/Documents/python_review/python_review.ipynb#Y116sZmlsZQ%3D%3D?line=14'>15</a>\u001b[0m arr \u001b[39m=\u001b[39m [\u001b[39m1\u001b[39m, \u001b[39m2\u001b[39m, \u001b[39m3\u001b[39m]\n\u001b[0;32m     <a href='vscode-notebook-cell:/c%3A/Users/pedro/OneDrive/Documents/python_review/python_review.ipynb#Y116sZmlsZQ%3D%3D?line=15'>16</a>\u001b[0m num \u001b[39m=\u001b[39m Numerical(arr)\n\u001b[1;32m---> <a href='vscode-notebook-cell:/c%3A/Users/pedro/OneDrive/Documents/python_review/python_review.ipynb#Y116sZmlsZQ%3D%3D?line=16'>17</a>\u001b[0m num\u001b[39m.\u001b[39;49mmean()\n\u001b[0;32m     <a href='vscode-notebook-cell:/c%3A/Users/pedro/OneDrive/Documents/python_review/python_review.ipynb#Y116sZmlsZQ%3D%3D?line=17'>18</a>\u001b[0m \u001b[39m# 2.0\u001b[39;00m\n\u001b[0;32m     <a href='vscode-notebook-cell:/c%3A/Users/pedro/OneDrive/Documents/python_review/python_review.ipynb#Y116sZmlsZQ%3D%3D?line=18'>19</a>\u001b[0m num\u001b[39m.\u001b[39mvar()\n",
      "\u001b[1;32mc:\\Users\\pedro\\OneDrive\\Documents\\python_review\\python_review.ipynb Cell 57\u001b[0m in \u001b[0;36mNumerical.mean\u001b[1;34m(self)\u001b[0m\n\u001b[0;32m      <a href='vscode-notebook-cell:/c%3A/Users/pedro/OneDrive/Documents/python_review/python_review.ipynb#Y116sZmlsZQ%3D%3D?line=4'>5</a>\u001b[0m \u001b[39mdef\u001b[39;00m \u001b[39mmean\u001b[39m(\u001b[39mself\u001b[39m):\n\u001b[1;32m----> <a href='vscode-notebook-cell:/c%3A/Users/pedro/OneDrive/Documents/python_review/python_review.ipynb#Y116sZmlsZQ%3D%3D?line=5'>6</a>\u001b[0m   \u001b[39mreturn\u001b[39;00m \u001b[39msum\u001b[39m(data) \u001b[39m/\u001b[39m \u001b[39mlen\u001b[39m(data)\n",
      "\u001b[1;31mNameError\u001b[0m: name 'data' is not defined"
     ]
    }
   ],
   "source": [
    "class Numerical:\n",
    "  def __init__(self, data):\n",
    "    self.data = data\n",
    "    \n",
    "  def mean(self):\n",
    "    return sum(data) / len(data)\n",
    "  \n",
    "  def var(self):\n",
    "    m = self.mean()\n",
    "    var = 0\n",
    "    for i in self.data:\n",
    "      var += ((i - m) ** 2)\n",
    "    return var\n",
    "  \n",
    "arr = [1, 2, 3]\n",
    "num = Numerical(arr)\n",
    "num.mean()\n",
    "# 2.0\n",
    "num.var()\n",
    "# 2.0"
   ]
  },
  {
   "cell_type": "markdown",
   "metadata": {},
   "source": [
    "> sum() is a function available in Python for calculating the sum of a list"
   ]
  }
 ],
 "metadata": {
  "kernelspec": {
   "display_name": "Python 3",
   "language": "python",
   "name": "python3"
  },
  "language_info": {
   "codemirror_mode": {
    "name": "ipython",
    "version": 3
   },
   "file_extension": ".py",
   "mimetype": "text/x-python",
   "name": "python",
   "nbconvert_exporter": "python",
   "pygments_lexer": "ipython3",
   "version": "3.10.2"
  },
  "orig_nbformat": 4
 },
 "nbformat": 4,
 "nbformat_minor": 2
}
