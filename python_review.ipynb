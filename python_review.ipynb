{
 "cells": [
  {
   "cell_type": "markdown",
   "metadata": {},
   "source": [
    "# Review of Python"
   ]
  },
  {
   "cell_type": "markdown",
   "metadata": {},
   "source": [
    "## The basics\n",
    "For any programming language you start with the trifecta of variables, conditionals and loops comes up."
   ]
  },
  {
   "cell_type": "markdown",
   "metadata": {},
   "source": [
    "![trifecta_of_variables](https://miro.medium.com/v2/resize:fit:720/format:webp/1*bvCp6hHFSTeYpPA8qz3hGQ.png)\n",
    "\n",
    "Let's get on with it then.\n"
   ]
  },
  {
   "cell_type": "markdown",
   "metadata": {},
   "source": [
    "### Variables\n",
    "\n",
    "Variables are used to store information inside the program and do something useful (or fun). Just like any other language, `=` is used to assign value to a variable. The most useful types of variables are: numbers, floats (numbers with decimals), strings and booleans (either True or False)."
   ]
  },
  {
   "cell_type": "code",
   "execution_count": 2,
   "metadata": {},
   "outputs": [
    {
     "name": "stdout",
     "output_type": "stream",
     "text": [
      "1\n",
      "1.1\n",
      "Hello world\n",
      "True\n"
     ]
    }
   ],
   "source": [
    "number = 1\n",
    "print(number)\n",
    "float_number = 1.1\n",
    "print(float_number)\n",
    "ex_string = \"Hello world\"\n",
    "print(ex_string)\n",
    "ex_boolean = True\n",
    "print(ex_boolean)"
   ]
  },
  {
   "cell_type": "markdown",
   "metadata": {},
   "source": [
    "### Conditionals\n",
    "\n",
    "Conditionals help the code to decide what to do depending on a condition. Just like in our lives, if our mood is good, we are happy and otherwise, we are grumpy. For Python, it would look this:"
   ]
  },
  {
   "cell_type": "code",
   "execution_count": 3,
   "metadata": {},
   "outputs": [
    {
     "name": "stdout",
     "output_type": "stream",
     "text": [
      "I am grumpy!\n"
     ]
    }
   ],
   "source": [
    "mood = \"\"\n",
    "\n",
    "if mood == \"good\":\n",
    "    print(\"I am happy!\")\n",
    "else:\n",
    "    print(\"I am grumpy!\")"
   ]
  },
  {
   "cell_type": "markdown",
   "metadata": {},
   "source": [
    "But, what if we want to accommodate more conditions into our code. Fret not, there is a way. Extending our previous example we can say that if mood is good, we are happy; if mood is bad, we are grumpy and otherwise, we are smack-dab in the middle. Let’s see how this is done in Python:"
   ]
  },
  {
   "cell_type": "code",
   "execution_count": 4,
   "metadata": {},
   "outputs": [
    {
     "name": "stdout",
     "output_type": "stream",
     "text": [
      "I am smack-dab in the middle!\n"
     ]
    }
   ],
   "source": [
    "if mood == \"good\":\n",
    "    print(\"I am happy!\")\n",
    "elif mood == \"bad\":\n",
    "    print(\"I am grumpy!\")\n",
    "else:\n",
    "    print(\"I am smack-dab in the middle!\")"
   ]
  },
  {
   "cell_type": "markdown",
   "metadata": {},
   "source": [
    "For conditionals, you just need to remember most of the times, if-else and sometimes, if-elif-else.\n",
    "\n",
    "PS: == is the comparison operator used to perform comparisons between the guys on the left and right hand side."
   ]
  },
  {
   "cell_type": "markdown",
   "metadata": {},
   "source": [
    "### Loops\n",
    "Loops are used for repeating the same task again and again. What if I ask you to add number from 1 to a billion? In Python, without loops it would look something like this:"
   ]
  },
  {
   "cell_type": "code",
   "execution_count": 1,
   "metadata": {},
   "outputs": [],
   "source": [
    "answer = 0\n",
    "answer = answer + 1\n",
    "answer = answer + 2\n",
    "answer = answer + 3\n",
    "# .\n",
    "# . and all the numbers in between\n",
    "# .\n",
    "answer = answer + 1000000000"
   ]
  },
  {
   "cell_type": "markdown",
   "metadata": {},
   "source": [
    "This would be a truly excruciating and frustrating task. And that is the exact reason why loops are necessary. This is how one would do the above in Python (the simple and short way):"
   ]
  },
  {
   "cell_type": "code",
   "execution_count": 5,
   "metadata": {},
   "outputs": [
    {
     "name": "stdout",
     "output_type": "stream",
     "text": [
      "45\n"
     ]
    }
   ],
   "source": [
    "answer = 0\n",
    "for i in range(1,10):\n",
    "    answer += i\n",
    "print(answer)"
   ]
  },
  {
   "cell_type": "markdown",
   "metadata": {},
   "source": [
    ">>range is a Python function for creating values in a range (in our case, from 1 to a billion). += means sum first then assign which means answer += i can also be written as answer = answer + i .\n",
    "\n",
    "The for loop would be the one you would be using a lot. Apart from that, we have while loop which can also be used to solve the problem of adding number from 1 to billion above like this:"
   ]
  },
  {
   "cell_type": "code",
   "execution_count": 6,
   "metadata": {},
   "outputs": [
    {
     "name": "stdout",
     "output_type": "stream",
     "text": [
      "10\n",
      "45\n"
     ]
    }
   ],
   "source": [
    "answer = 0\n",
    "number = 0\n",
    "while number < 10:\n",
    "    answer += number\n",
    "    number += 1\n",
    "print(number)\n",
    "print(answer)"
   ]
  },
  {
   "cell_type": "markdown",
   "metadata": {},
   "source": [
    "The for and while loop can be used interchangeably. Generally, for loop is used for running through a list of numbers or some data while while loop is used for waiting on a condition.\n",
    "\n",
    "Now, the basic stuff is out of the way. It would be super useful if we could have something that would allow us to store more than one value at a time. Suppose you are thinking of automating your invites to a party, you would need to store all those names and e-mail addresses somewhere."
   ]
  },
  {
   "cell_type": "markdown",
   "metadata": {},
   "source": [
    "### Data Structures\n",
    "\n",
    "Lo and behold, I introduce to you the world of Data Structures (techniques to store and organize data). We have another trifecta here: List, Dictionary and Set.\n",
    "\n",
    "![trifecta_of_variables](https://miro.medium.com/v2/resize:fit:720/format:webp/1*yc7GsE20PptbInUCMp9ASQ.png)\n"
   ]
  },
  {
   "cell_type": "markdown",
   "metadata": {},
   "source": [
    "#### List\n",
    "\n",
    "List just like any lists in normal life handles data that gathers up in a straight line. The names of students in a class, the stock prices of a company, the grocery list and many others lists popping up in your life can put to bed nicely in [] in Python. Here’s an example:"
   ]
  },
  {
   "cell_type": "code",
   "execution_count": null,
   "metadata": {},
   "outputs": [],
   "source": [
    "numbers = [1, 2, 3, 4]\n",
    "groceries = ['apples', 'oranges', 'avocados', 'grapes']\n",
    "prices = [240.2, 238.4, 244.6, 240.1]"
   ]
  },
  {
   "cell_type": "markdown",
   "metadata": {},
   "source": [
    "It’s great we are able to store all these values in nice little boxes but how do we take them out? Revisiting our school days, we all had roll numbers (or something along the same lines) and we answered to that number. The same goes here. Just one tiny little difference, here the roll number starts from 0.\n",
    "\n",
    "Let’s see an example:"
   ]
  },
  {
   "cell_type": "code",
   "execution_count": null,
   "metadata": {},
   "outputs": [],
   "source": [
    "groceries = ['apples', 'oranges', 'avocados', 'grapes']\n",
    "\n",
    "print(groceries[0])\n",
    "# 'apples'\n",
    "\n",
    "print(groceries[1])\n",
    "# 'oranges'\n",
    "\n",
    "print(groceries[2])\n",
    "# 'avocados'\n",
    "\n",
    "print(groceries[3])\n",
    "# 'grapes'"
   ]
  },
  {
   "cell_type": "code",
   "execution_count": 7,
   "metadata": {},
   "outputs": [
    {
     "name": "stdout",
     "output_type": "stream",
     "text": [
      "apples\n",
      "oranges\n",
      "avocados\n",
      "grapes\n"
     ]
    }
   ],
   "source": [
    "#List\n",
    "numbers = [1,2,3,4]\n",
    "groceries = ['apples', 'oranges', 'avocados', 'grapes']\n",
    "prices = [240.2, 238.4, 244.6, 240.1]\n",
    "\n",
    "i = 0\n",
    "while (i<len(groceries)):\n",
    "    print(groceries[i])\n",
    "    i += 1"
   ]
  },
  {
   "cell_type": "code",
   "execution_count": 9,
   "metadata": {},
   "outputs": [
    {
     "name": "stdout",
     "output_type": "stream",
     "text": [
      "['oranges', 'avocados', 'grapes', 'blueberries', 'blueberries']\n",
      "['avocados', 'grapes', 'blueberries', 'blueberries']\n"
     ]
    }
   ],
   "source": [
    "groceries.append('blueberries')\n",
    "print(groceries)\n",
    "\n",
    "len(groceries)\n",
    "\n",
    "groceries.pop(0)\n",
    "\n",
    "print(groceries)"
   ]
  },
  {
   "cell_type": "markdown",
   "metadata": {},
   "source": [
    "Dictionaries"
   ]
  },
  {
   "cell_type": "code",
   "execution_count": 16,
   "metadata": {},
   "outputs": [
    {
     "data": {
      "text/plain": [
       "'Thomas Wayne'"
      ]
     },
     "execution_count": 16,
     "metadata": {},
     "output_type": "execute_result"
    }
   ],
   "source": [
    "bruce_wayne = {\n",
    "    'father': 'Thomas Wayne',\n",
    "    'mother': 'Martha Wayne',\n",
    "    'secret_identity': 'Batman',\n",
    "    'caretaker': 'Alfred Pennyworth',\n",
    "    'height': '6 ft 2 ins',\n",
    "    'weight': '95 hgs'\n",
    "}\n",
    "\n",
    "bruce_wayne['father']"
   ]
  },
  {
   "cell_type": "code",
   "execution_count": 17,
   "metadata": {},
   "outputs": [
    {
     "name": "stdout",
     "output_type": "stream",
     "text": [
      "{'father': 'Thomas Wayne', 'mother': 'Martha Wayne', 'secret_identity': 'Batman', 'caretaker': 'Alfred Pennyworth', 'height': '6 ft 2 ins', 'weight': '95 hgs', 'love_interest': 'Catwoman'}\n"
     ]
    }
   ],
   "source": [
    "#add a key-value pair\n",
    "bruce_wayne['love_interest'] = 'Catwoman'\n",
    "\n",
    "print(bruce_wayne)"
   ]
  },
  {
   "cell_type": "code",
   "execution_count": 18,
   "metadata": {},
   "outputs": [
    {
     "name": "stdout",
     "output_type": "stream",
     "text": [
      "{'father': 'Thomas Wayne', 'mother': 'Martha Wayne', 'secret_identity': 'Batman', 'caretaker': 'Alfred Pennyworth', 'height': '6 ft 2 ins', 'love_interest': 'Catwoman'}\n"
     ]
    }
   ],
   "source": [
    "#remove elements\n",
    "bruce_wayne.pop('weight')\n",
    "\n",
    "print(bruce_wayne)"
   ]
  },
  {
   "cell_type": "markdown",
   "metadata": {},
   "source": [
    "Sets"
   ]
  },
  {
   "cell_type": "code",
   "execution_count": 22,
   "metadata": {},
   "outputs": [
    {
     "name": "stdout",
     "output_type": "stream",
     "text": [
      "{1, 2, 3, 4, 5, 6}\n",
      "{1}\n"
     ]
    }
   ],
   "source": [
    "arr = {1,1,2,3,4,5,6}\n",
    "\n",
    "print(arr)\n",
    "\n",
    "#create a new empty set\n",
    "arr = set()\n",
    "\n",
    "arr.add(1)\n",
    "arr.add(1)\n",
    "\n",
    "print(arr)"
   ]
  },
  {
   "cell_type": "code",
   "execution_count": 23,
   "metadata": {},
   "outputs": [
    {
     "name": "stdout",
     "output_type": "stream",
     "text": [
      "{2, 3}\n"
     ]
    }
   ],
   "source": [
    "#remove elements\n",
    "set1 = {1,2,3}\n",
    "\n",
    "set1.remove(1)\n",
    "\n",
    "print(set1)"
   ]
  },
  {
   "cell_type": "code",
   "execution_count": 27,
   "metadata": {},
   "outputs": [
    {
     "data": {
      "text/plain": [
       "{1, 2, 4, 5}"
      ]
     },
     "execution_count": 27,
     "metadata": {},
     "output_type": "execute_result"
    }
   ],
   "source": [
    "set1 = {1,2,3}\n",
    "set2 = {3,4,5}\n",
    "\n",
    "# | union of two sets\n",
    "set1 | set2\n",
    "\n",
    "# & intersection of two sets\n",
    "set1 & set2\n",
    "\n",
    "# - difference of two sets \n",
    "set1 - set2\n",
    "\n",
    "# symmetric differende of two sets\n",
    "set1 ^ set2"
   ]
  }
 ],
 "metadata": {
  "kernelspec": {
   "display_name": "Python 3",
   "language": "python",
   "name": "python3"
  },
  "language_info": {
   "codemirror_mode": {
    "name": "ipython",
    "version": 3
   },
   "file_extension": ".py",
   "mimetype": "text/x-python",
   "name": "python",
   "nbconvert_exporter": "python",
   "pygments_lexer": "ipython3",
   "version": "3.10.2"
  },
  "orig_nbformat": 4
 },
 "nbformat": 4,
 "nbformat_minor": 2
}
